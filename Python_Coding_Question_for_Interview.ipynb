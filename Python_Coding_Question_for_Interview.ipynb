{
  "nbformat": 4,
  "nbformat_minor": 0,
  "metadata": {
    "colab": {
      "provenance": [],
      "authorship_tag": "ABX9TyOHv0cBqmDmXf8v9KnpLR2H",
      "include_colab_link": true
    },
    "kernelspec": {
      "name": "python3",
      "display_name": "Python 3"
    },
    "language_info": {
      "name": "python"
    }
  },
  "cells": [
    {
      "cell_type": "markdown",
      "metadata": {
        "id": "view-in-github",
        "colab_type": "text"
      },
      "source": [
        "<a href=\"https://colab.research.google.com/github/Asifbbl/Python-Question/blob/main/Python_Coding_Question_for_Interview.ipynb\" target=\"_parent\"><img src=\"https://colab.research.google.com/assets/colab-badge.svg\" alt=\"Open In Colab\"/></a>"
      ]
    },
    {
      "cell_type": "markdown",
      "source": [
        "#Here are some basic interview coding questions in Python:\n",
        "###**Reverse a string:** Write a Python program to reverse a given string.\n",
        "\n",
        "###**Palindrome:** Write a Python program to check if a given string is a palindrome or not.\n",
        "\n",
        "###**Fibonacci sequence:** Write a Python program to generate the Fibonacci sequence up to a given number.\n",
        "\n",
        "###**Prime number:** Write a Python program to check if a given number is a prime number or not.\n",
        "\n",
        "###**Sorting:** Write a Python program to sort a given list of numbers in ascending or descending order.\n",
        "\n",
        "###**Binary search:** Write a Python program to implement binary search on a given sorted list of numbers.\n",
        "\n",
        "###**Factorial:** Write a Python program to find the factorial of a given number.\n",
        "\n",
        "###**Sum of digits:** Write a Python program to find the sum of digits of a given number.\n",
        "\n",
        "###**Merge two lists:** Write a Python program to merge two given lists into a single list.\n",
        "\n",
        "###**Find the largest and Smallest number in a list:** Write a Python program to find the largest and smallest number in a given list of numbers.\n",
        "\n",
        "###**Palindrome Number:** Write a Python program to check if a given Number is a palindrome or not.\n",
        "\n",
        "###**Armstrong Number:** Write a Python program to check if a given Number is a armstrong number or not."
      ],
      "metadata": {
        "id": "yGnuXp59xeaN"
      }
    },
    {
      "cell_type": "markdown",
      "source": [
        "###Write a Python program to reverse a given string."
      ],
      "metadata": {
        "id": "uUQLMXZVyboq"
      }
    },
    {
      "cell_type": "code",
      "execution_count": null,
      "metadata": {
        "colab": {
          "base_uri": "https://localhost:8080/"
        },
        "id": "V2CpsxcwxLDu",
        "outputId": "7051a5a3-5c87-4d76-904d-2e5916211d93"
      },
      "outputs": [
        {
          "output_type": "stream",
          "name": "stdout",
          "text": [
            "ecneicS ataD etinifni fo dlrow eht ot emocleW\n"
          ]
        }
      ],
      "source": [
        "string = 'Welcome to the world of infinite Data Science'\n",
        "reverse_string = string[::-1]\n",
        "print(reverse_string)"
      ]
    },
    {
      "cell_type": "markdown",
      "source": [
        "###Write a Python program to check if a given string is a palindrome or not."
      ],
      "metadata": {
        "id": "VK2TuUKny3Sw"
      }
    },
    {
      "cell_type": "code",
      "source": [
        "string = input('Enter String')\n",
        "reverse_string = string[::-1]\n",
        "if string==reverse_string:\n",
        "  print('String is palendrome')\n",
        "else:\n",
        "  print('String is not palendrome')"
      ],
      "metadata": {
        "colab": {
          "base_uri": "https://localhost:8080/"
        },
        "id": "rJ2wGrvby1KV",
        "outputId": "c56a5b7e-74a2-409b-df6e-063c02abb1a5"
      },
      "execution_count": null,
      "outputs": [
        {
          "output_type": "stream",
          "name": "stdout",
          "text": [
            "Enter Stringafcgvhbj\n",
            "String is not palendrome\n"
          ]
        }
      ]
    },
    {
      "cell_type": "markdown",
      "source": [
        "### Write a Python program to generate the Fibonacci sequence up to a given number."
      ],
      "metadata": {
        "id": "rxfqkkTnzpyc"
      }
    },
    {
      "cell_type": "code",
      "source": [
        "n = int(input('Inter the number of term : '))\n",
        "a ,b =0,1\n",
        "list_of_fibo = []\n",
        "count =0\n",
        "if n <=0 :\n",
        "  print('Fibonacci series not possible')\n",
        "elif n==1:\n",
        "  print(f'Fibonacci series up to {n} is :{a} ')\n",
        "else:\n",
        "  print(f'Febonacci series is upto {n}  = : ')\n",
        "  while count <n:\n",
        "    list_of_fibo.append(a)\n",
        "    c = a +b \n",
        "    a =b \n",
        "    b =c\n",
        "    count = count +1\n",
        "  print(list_of_fibo)"
      ],
      "metadata": {
        "colab": {
          "base_uri": "https://localhost:8080/"
        },
        "id": "AcSwTUfrzf-0",
        "outputId": "14905424-02cb-4af8-927a-4eb6e74db4c6"
      },
      "execution_count": null,
      "outputs": [
        {
          "output_type": "stream",
          "name": "stdout",
          "text": [
            "Inter the number of term : 10\n",
            "Febonacci series is upto 10  = : \n",
            "[0, 1, 1, 2, 3, 5, 8, 13, 21, 34]\n"
          ]
        }
      ]
    },
    {
      "cell_type": "markdown",
      "source": [
        "###Write a Python program to check if a given number is a prime number or not."
      ],
      "metadata": {
        "id": "Rylvrg0q2i24"
      }
    },
    {
      "cell_type": "code",
      "source": [
        "num = int(input('Enter number : '))\n",
        "\n",
        "if num<=1:\n",
        "  print(f'The given number that is {num} is not a prime number ')\n",
        "else:\n",
        "  for i in range(2,num):\n",
        "    if num%i==0:\n",
        "      print(f'The given number that is {num} is not prime number')\n",
        "      break\n",
        "  else:\n",
        "    print(f'The given number that is {num} is  prime number ')"
      ],
      "metadata": {
        "colab": {
          "base_uri": "https://localhost:8080/"
        },
        "id": "MmZn8a-91wSF",
        "outputId": "f016424c-b0f8-451a-f4ac-1b863f98f867"
      },
      "execution_count": null,
      "outputs": [
        {
          "output_type": "stream",
          "name": "stdout",
          "text": [
            "Enter number : 33\n",
            "The given number that is 33 is not prime number\n"
          ]
        }
      ]
    },
    {
      "cell_type": "markdown",
      "source": [
        "###Write a Python program to sort a given list of numbers in ascending and  descending order."
      ],
      "metadata": {
        "id": "1U4E2kRY53fP"
      }
    },
    {
      "cell_type": "code",
      "source": [
        "list_of_number = [23, 54, 65, 12,19, 78,106, 97]\n",
        "\n",
        "print(f'Origional list {list_of_number}')\n",
        "list_in_ascending  = sorted(list_of_number)\n",
        "\n",
        "print(f'List in Ascending order {list_in_ascending}')\n",
        "\n",
        "list_in_descending = sorted(list_of_number, reverse=True)\n",
        "print(f'List in descending order {list_in_descending}')"
      ],
      "metadata": {
        "colab": {
          "base_uri": "https://localhost:8080/"
        },
        "id": "CZGJ7Qy537iC",
        "outputId": "0acd516e-30ad-4181-d5ab-5c721182c535"
      },
      "execution_count": null,
      "outputs": [
        {
          "output_type": "stream",
          "name": "stdout",
          "text": [
            "Origional list [23, 54, 65, 12, 19, 78, 106, 97]\n",
            "List in Ascending order [12, 19, 23, 54, 65, 78, 97, 106]\n",
            "List in descending order [106, 97, 78, 65, 54, 23, 19, 12]\n"
          ]
        }
      ]
    },
    {
      "cell_type": "code",
      "source": [
        "number_list = [32, 89, 13, 96, 106, 86, 94]\n",
        "\n",
        "# It basically change permanently \n",
        "\n",
        "number_list.sort()\n",
        "print(f'List in ascending order {number_list}')\n",
        "\n"
      ],
      "metadata": {
        "colab": {
          "base_uri": "https://localhost:8080/"
        },
        "id": "yy2B-C4b6Jqn",
        "outputId": "69629d3d-f8fa-4179-83a4-1a477b10e9a7"
      },
      "execution_count": null,
      "outputs": [
        {
          "output_type": "stream",
          "name": "stdout",
          "text": [
            "List in ascending order [13, 32, 86, 89, 94, 96, 106]\n"
          ]
        }
      ]
    },
    {
      "cell_type": "code",
      "source": [
        "Num_list = [32,86, 89, 34, 15, 99, 56, 67]\n",
        "print(f'Origional list of Number {Num_list}')\n",
        "Num_list.sort(reverse=True)\n",
        "print(f'List in Descending order {Num_list}')"
      ],
      "metadata": {
        "colab": {
          "base_uri": "https://localhost:8080/"
        },
        "id": "Mcfi1ITK8KOL",
        "outputId": "b68d50f6-7601-46b4-ae76-288e4ccf05a2"
      },
      "execution_count": null,
      "outputs": [
        {
          "output_type": "stream",
          "name": "stdout",
          "text": [
            "Origional list of Number [32, 86, 89, 34, 15, 99, 56, 67]\n",
            "List in Descending order [99, 89, 86, 67, 56, 34, 32, 15]\n"
          ]
        }
      ]
    },
    {
      "cell_type": "markdown",
      "source": [
        "### Write a Python program to implement binary search on a given sorted list of numbers."
      ],
      "metadata": {
        "id": "xBn_Gg7g-4Wc"
      }
    },
    {
      "cell_type": "code",
      "source": [],
      "metadata": {
        "id": "cW5SFACL-S0I"
      },
      "execution_count": null,
      "outputs": []
    },
    {
      "cell_type": "markdown",
      "source": [
        "### Write a Python program to find the factorial of a given number."
      ],
      "metadata": {
        "id": "_jlWBeV0_9u7"
      }
    },
    {
      "cell_type": "code",
      "source": [
        "number = int(input())\n",
        "temp =number\n",
        "factorial =1\n",
        "\n",
        "if number<0:\n",
        "  print('Factorial is not possible ')\n",
        "\n",
        "elif number ==0:\n",
        "  print('Factorial of 0 is 1')\n",
        "else:\n",
        "  while number>0:\n",
        "    factorial =factorial*number\n",
        "    number = number - 1\n",
        "print(f'Factorial of number {temp} is : {factorial}')"
      ],
      "metadata": {
        "colab": {
          "base_uri": "https://localhost:8080/"
        },
        "id": "ivAWCv4pAKnY",
        "outputId": "0e840fc4-edd1-4420-f750-f791d25871bb"
      },
      "execution_count": null,
      "outputs": [
        {
          "output_type": "stream",
          "name": "stdout",
          "text": [
            "5\n",
            "Factorial of number 5 is : 120\n"
          ]
        }
      ]
    },
    {
      "cell_type": "markdown",
      "source": [
        "### Write a Python program to find the sum of digits of a given number."
      ],
      "metadata": {
        "id": "HZeH3DOzB9Eg"
      }
    },
    {
      "cell_type": "code",
      "source": [
        "num = int(input())\n",
        "temp =num\n",
        "result =0\n",
        "while num> 0:\n",
        "  rem = num%10\n",
        "  result= result + rem \n",
        "  num = num //10\n",
        "\n",
        "print(f' The sum of digit of a given number {temp} is {result}')"
      ],
      "metadata": {
        "colab": {
          "base_uri": "https://localhost:8080/"
        },
        "id": "JVQCiWiDBjWH",
        "outputId": "1c007b7d-eef1-4849-a8ae-49724670f995"
      },
      "execution_count": null,
      "outputs": [
        {
          "output_type": "stream",
          "name": "stdout",
          "text": [
            "675\n",
            " The sum of digit of a given number 675is 18\n"
          ]
        }
      ]
    },
    {
      "cell_type": "markdown",
      "source": [
        "### Write a Python program to merge two given lists into a single list."
      ],
      "metadata": {
        "id": "zK_RMufyCE_g"
      }
    },
    {
      "cell_type": "code",
      "source": [
        "list1 = [32, 65, 87, 90] \n",
        "list2 = [54, 76,23, 95]\n",
        "\n",
        "merged_list = list1 + list2\n",
        "print(merged_list)"
      ],
      "metadata": {
        "colab": {
          "base_uri": "https://localhost:8080/"
        },
        "id": "yOMoVLn3EC3M",
        "outputId": "f5a620f5-5716-49d2-cd99-6d2034e908ab"
      },
      "execution_count": null,
      "outputs": [
        {
          "output_type": "stream",
          "name": "stdout",
          "text": [
            "[32, 65, 87, 90, 54, 76, 23, 95]\n"
          ]
        }
      ]
    },
    {
      "cell_type": "markdown",
      "source": [
        "###Write a Python program to find the largest and smallest number in a given list of numbers."
      ],
      "metadata": {
        "id": "mdtLRDirD_Xu"
      }
    },
    {
      "cell_type": "code",
      "source": [
        "import numpy as np"
      ],
      "metadata": {
        "id": "f8NTz4gwFo13"
      },
      "execution_count": null,
      "outputs": []
    },
    {
      "cell_type": "code",
      "source": [
        "list_of_numbers = [12, 76, 89, 94, 197, 64, 99, 65,12]\n",
        "print(f'Maximum number in the list is {max(list_of_numbers)}')\n",
        "print(f'Smallest number in the list is {min(list_of_numbers)}')\n",
        "print(f'Mean number from the lists {np.mean(list_of_numbers)}')\n",
        "print(f'Median of a number is {np.median(list_of_numbers)}')\n"
      ],
      "metadata": {
        "colab": {
          "base_uri": "https://localhost:8080/"
        },
        "id": "4EPKmukFEgat",
        "outputId": "19591573-6ead-4c1a-8fb6-5bb278ecc7c1"
      },
      "execution_count": null,
      "outputs": [
        {
          "output_type": "stream",
          "name": "stdout",
          "text": [
            "Maximum number in the list is 197\n",
            "Smallest number in the list is 12\n",
            "Mean number from the lists 78.66666666666667\n",
            "Median of a number is 76.0\n"
          ]
        }
      ]
    },
    {
      "cell_type": "markdown",
      "source": [
        "\n",
        "###Write a Python program to check if a given Number is a palindrome or not."
      ],
      "metadata": {
        "id": "H45jd9JYIrIw"
      }
    },
    {
      "cell_type": "code",
      "source": [
        "def Palendrome(number):\n",
        "  temp = number\n",
        "  result=0\n",
        "  while number> 0:\n",
        "    remainder = number%10\n",
        "    result = result*10 + remainder\n",
        "    number = number//10\n",
        "  if temp ==result:\n",
        "    print('The given number is Palendrome number')\n",
        "  else:\n",
        "    print('The given number is not Palendrome number')"
      ],
      "metadata": {
        "id": "kTeywrqoFLJn"
      },
      "execution_count": null,
      "outputs": []
    },
    {
      "cell_type": "code",
      "source": [
        "Palendrome(123)"
      ],
      "metadata": {
        "colab": {
          "base_uri": "https://localhost:8080/"
        },
        "id": "OgDj_6OzIp0W",
        "outputId": "c837babc-e16b-47fa-8b3e-4ff64f031e28"
      },
      "execution_count": null,
      "outputs": [
        {
          "output_type": "stream",
          "name": "stdout",
          "text": [
            "The given number is not Palendrome number\n"
          ]
        }
      ]
    },
    {
      "cell_type": "markdown",
      "source": [
        "###Write a Python program to check if a given Number is a Armstrong Number or not."
      ],
      "metadata": {
        "id": "9fzYZUgFLVPo"
      }
    },
    {
      "cell_type": "code",
      "source": [
        "def Armstrong_Number(number):\n",
        "  temp = number\n",
        "  len_num = len(str(number))\n",
        "  result =0\n",
        "  while number > 0:\n",
        "    rem = number%10\n",
        "    result = result + rem**len_num\n",
        "    number = number//10\n",
        "  \n",
        "  if temp ==result:\n",
        "    print('Armstrong Number')\n",
        "  else:\n",
        "    print('Not armstrong Number')"
      ],
      "metadata": {
        "id": "Vgc9ioLlMD1I"
      },
      "execution_count": null,
      "outputs": []
    },
    {
      "cell_type": "code",
      "source": [
        "Armstrong_Number(153)"
      ],
      "metadata": {
        "colab": {
          "base_uri": "https://localhost:8080/"
        },
        "id": "mz4RxrVzN96M",
        "outputId": "ac0228b5-9cce-4eff-94fe-964d83c6d2e7"
      },
      "execution_count": null,
      "outputs": [
        {
          "output_type": "stream",
          "name": "stdout",
          "text": [
            "Armstrong Number\n"
          ]
        }
      ]
    },
    {
      "cell_type": "code",
      "source": [],
      "metadata": {
        "id": "T89ld2qIOF14"
      },
      "execution_count": null,
      "outputs": []
    }
  ]
}